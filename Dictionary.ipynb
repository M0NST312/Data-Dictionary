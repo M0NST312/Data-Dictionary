{
 "cells": [
  {
   "cell_type": "markdown",
   "id": "c0e55581",
   "metadata": {},
   "source": [
    "#### Creating a dictionary for taxpayer names(Values) and Tins (Key)\n",
    "    "
   ]
  },
  {
   "cell_type": "markdown",
   "id": "f14af009",
   "metadata": {},
   "source": [
    "    Read dataset with taxpayername and tin\n",
    "    Read dictionary / Create if it does not exist\n",
    "    Foreach entry\n",
    "        if tin in dictionary\n",
    "            if name in values array\n",
    "                continue\n",
    "            else\n",
    "                add name to values array\n",
    "        else\n",
    "            add key value pair"
   ]
  },
  {
   "cell_type": "code",
   "execution_count": 72,
   "id": "446279a2",
   "metadata": {},
   "outputs": [],
   "source": [
    "import pandas as pd\n",
    "import numpy as np\n",
    "import re\n",
    "import json\n",
    "import pickle\n",
    "import csv\n",
    "import os.path"
   ]
  },
  {
   "cell_type": "code",
   "execution_count": 73,
   "id": "cb82a1cd",
   "metadata": {},
   "outputs": [],
   "source": [
    "#Import Spreadsheet/CSV into a pandas dataframe\n",
    "df = pd.read_csv(\"\")\n",
    "#df = pd.read_excel(\"\", sheet_name=\"\")"
   ]
  },
  {
   "cell_type": "code",
   "execution_count": 74,
   "id": "1b731f58",
   "metadata": {},
   "outputs": [],
   "source": [
    "#Create a dictionary using the TIN and NAME\n",
    "new_data = {k: g[\"Original name\"].tolist() for k,g in df.groupby(\"TIN\")}"
   ]
  },
  {
   "cell_type": "code",
   "execution_count": null,
   "id": "8a38f038",
   "metadata": {},
   "outputs": [],
   "source": [
    "\n",
    "'''\n",
    "    Function : Reads a pickle dictionary into a python dictionary variable\n",
    "    exist : result from checking if dictionary exist or not\n",
    "    return : returns a python dictionary from the pickle dictionary or an empty dictionary\n",
    "'''\n",
    "def read_write_pickle(exist):\n",
    "    dictionary = {}\n",
    "    if (exist):\n",
    "        # Load the dictionary from a file\n",
    "        with open(\"dict.pickle\", \"rb\") as file:\n",
    "            dictionary = pickle.load(file)\n",
    "    '''\n",
    "        else:\n",
    "            # Save the dictionary to a file\n",
    "            with open(\"dict.pickle\", \"wb\") as file:\n",
    "                pickle.dump(dictionary, file)\n",
    "    '''\n",
    "    return dictionary"
   ]
  },
  {
   "cell_type": "code",
   "execution_count": 75,
   "id": "0a5c8f88",
   "metadata": {},
   "outputs": [],
   "source": [
    "# Read Pickle Dictionary into A variable\n",
    "path_pickle = \"dict.pickle\"\n",
    "exist = os.path.isfile(path_pickle)\n",
    "\n",
    "data = read_write_pickle(exist)"
   ]
  },
  {
   "cell_type": "code",
   "execution_count": 76,
   "id": "73c7992f",
   "metadata": {},
   "outputs": [],
   "source": [
    "#Create or Update Dictionary\n",
    "'''\n",
    "    Function : takes 2 dictionaries and append one dictionary to the other\n",
    "    data : dictionary to append the new data to\n",
    "    new_data : new dictionary to be appended\n",
    "    return : updated dictionary\n",
    "'''\n",
    "def update_dict(data, new_data):\n",
    "    if (len(data) == 0):\n",
    "        return new_data\n",
    "    else:\n",
    "        key_list = new_data.keys()\n",
    "        for key in key_list:\n",
    "            if key in data.keys():\n",
    "                for val in new_data[key]:\n",
    "                    if val.lower() in data[key]:\n",
    "                        continue\n",
    "                    else:\n",
    "                        data[key].append(val.lower())\n",
    "            else:\n",
    "                data.update({key: new_data[key]})\n",
    "    return data"
   ]
  },
  {
   "cell_type": "code",
   "execution_count": 54,
   "id": "bcd088e3",
   "metadata": {},
   "outputs": [
    {
     "data": {
      "text/plain": [
       "'\\ndef create_dict(new_data):\\n    data = \\n    key_list = new_data.keys()\\n    for key in key_list:\\n        data[key].append(val.lower())\\n    return data\\n'"
      ]
     },
     "execution_count": 54,
     "metadata": {},
     "output_type": "execute_result"
    }
   ],
   "source": [
    "#Create new dictionary \n",
    "'''\n",
    "def create_dict(new_data):\n",
    "    data = \n",
    "    key_list = new_data.keys()\n",
    "    for key in key_list:\n",
    "        data[key].append(val.lower())\n",
    "    return data\n",
    "'''"
   ]
  },
  {
   "cell_type": "code",
   "execution_count": 77,
   "id": "35298cb7",
   "metadata": {},
   "outputs": [],
   "source": [
    "# Create Dictionary\n",
    "updated_dict = update_dict(data, new_data)"
   ]
  },
  {
   "cell_type": "code",
   "execution_count": 9,
   "id": "895807e4",
   "metadata": {},
   "outputs": [],
   "source": [
    "# Dump JSON (Export)\n",
    "with open(\"dict.json\", \"w\") as file:\n",
    "    json.dump(dct, file)"
   ]
  },
  {
   "cell_type": "code",
   "execution_count": 79,
   "id": "e42ffd12",
   "metadata": {},
   "outputs": [],
   "source": [
    "# Dump Pickle (Export)\n",
    "with open(\"dict.pickle\", \"wb\") as file:\n",
    "    pickle.dump(updated_dict, file)"
   ]
  }
 ],
 "metadata": {
  "kernelspec": {
   "display_name": "Python 3 (ipykernel)",
   "language": "python",
   "name": "python3"
  },
  "language_info": {
   "codemirror_mode": {
    "name": "ipython",
    "version": 3
   },
   "file_extension": ".py",
   "mimetype": "text/x-python",
   "name": "python",
   "nbconvert_exporter": "python",
   "pygments_lexer": "ipython3",
   "version": "3.9.12"
  }
 },
 "nbformat": 4,
 "nbformat_minor": 5
}
